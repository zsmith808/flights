{
 "cells": [
  {
   "cell_type": "code",
   "execution_count": 1,
   "metadata": {},
   "outputs": [
    {
     "name": "stdout",
     "output_type": "stream",
     "text": [
      "Requirement already satisfied: duckdb in c:\\users\\zsmit\\anaconda3\\lib\\site-packages (1.2.0)\n",
      "Note: you may need to restart the kernel to use updated packages.\n"
     ]
    }
   ],
   "source": [
    "pip install duckdb"
   ]
  },
  {
   "cell_type": "code",
   "execution_count": 2,
   "metadata": {},
   "outputs": [],
   "source": [
    "import duckdb"
   ]
  },
  {
   "cell_type": "code",
   "execution_count": 3,
   "metadata": {},
   "outputs": [
    {
     "name": "stdout",
     "output_type": "stream",
     "text": [
      "┌──────────────────────────────────┬────────────┬────────────┬─────────────────┬────────────────────┬───────────────┬────────────────┬─────────────┬────────────────┬──────────────┬───────────┬──────────┬───────────┬────────────────┬─────────────────────┬───────────────────────────────────┬──────────────────────────────────────────────────────────────┬─────────────────────────────────┬──────────────────────────────────────────────────────────────┬────────────────────────────┬──────────────────────────────┬──────────────────────────────────────┬─────────────────────┬────────────────────────────────┬───────────────────────────┬──────────────────┬───────────────────┐\n",
      "│              legId               │ searchDate │ flightDate │ startingAirport │ destinationAirport │ fareBasisCode │ travelDuration │ elapsedDays │ isBasicEconomy │ isRefundable │ isNonStop │ baseFare │ totalFare │ seatsRemaining │ totalTravelDistance │ segmentsDepartureTimeEpochSeconds │                   segmentsDepartureTimeRaw                   │ segmentsArrivalTimeEpochSeconds │                    segmentsArrivalTimeRaw                    │ segmentsArrivalAirportCode │ segmentsDepartureAirportCode │         segmentsAirlineName          │ segmentsAirlineCode │  segmentsEquipmentDescription  │ segmentsDurationInSeconds │ segmentsDistance │ segmentsCabinCode │\n",
      "│             varchar              │    date    │    date    │     varchar     │      varchar       │    varchar    │    varchar     │    int64    │    boolean     │   boolean    │  boolean  │  double  │  double   │     int64      │        int64        │              varchar              │                           varchar                            │             varchar             │                           varchar                            │          varchar           │           varchar            │               varchar                │       varchar       │            varchar             │          varchar          │     varchar      │      varchar      │\n",
      "├──────────────────────────────────┼────────────┼────────────┼─────────────────┼────────────────────┼───────────────┼────────────────┼─────────────┼────────────────┼──────────────┼───────────┼──────────┼───────────┼────────────────┼─────────────────────┼───────────────────────────────────┼──────────────────────────────────────────────────────────────┼─────────────────────────────────┼──────────────────────────────────────────────────────────────┼────────────────────────────┼──────────────────────────────┼──────────────────────────────────────┼─────────────────────┼────────────────────────────────┼───────────────────────────┼──────────────────┼───────────────────┤\n",
      "│ 9ca0e81111c683bec1012473feefd28f │ 2022-04-16 │ 2022-04-17 │ ATL             │ BOS                │ LA0NX0MC      │ PT2H29M        │           0 │ false          │ false        │ true      │   217.67 │     248.6 │              9 │                 947 │ 1650214620                        │ 2022-04-17T12:57:00.000-04:00                                │ 1650223560                      │ 2022-04-17T15:26:00.000-04:00                                │ BOS                        │ ATL                          │ Delta                                │ DL                  │ Airbus A321                    │ 8940                      │ 947              │ coach             │\n",
      "│ 98685953630e772a098941b71906592b │ 2022-04-16 │ 2022-04-17 │ ATL             │ BOS                │ LA0NX0MC      │ PT2H30M        │           0 │ false          │ false        │ true      │   217.67 │     248.6 │              4 │                 947 │ 1650191400                        │ 2022-04-17T06:30:00.000-04:00                                │ 1650200400                      │ 2022-04-17T09:00:00.000-04:00                                │ BOS                        │ ATL                          │ Delta                                │ DL                  │ Airbus A321                    │ 9000                      │ 947              │ coach             │\n",
      "│ 98d90cbc32bfbb05c2fc32897c7c1087 │ 2022-04-16 │ 2022-04-17 │ ATL             │ BOS                │ LA0NX0MC      │ PT2H30M        │           0 │ false          │ false        │ true      │   217.67 │     248.6 │              9 │                 947 │ 1650209700                        │ 2022-04-17T11:35:00.000-04:00                                │ 1650218700                      │ 2022-04-17T14:05:00.000-04:00                                │ BOS                        │ ATL                          │ Delta                                │ DL                  │ Boeing 757-200                 │ 9000                      │ 947              │ coach             │\n",
      "│ 969a269d38eae583f455486fa90877b4 │ 2022-04-16 │ 2022-04-17 │ ATL             │ BOS                │ LA0NX0MC      │ PT2H32M        │           0 │ false          │ false        │ true      │   217.67 │     248.6 │              8 │                 947 │ 1650218340                        │ 2022-04-17T13:59:00.000-04:00                                │ 1650227460                      │ 2022-04-17T16:31:00.000-04:00                                │ BOS                        │ ATL                          │ Delta                                │ DL                  │ Airbus A321                    │ 9120                      │ 947              │ coach             │\n",
      "│ 980370cf27c89b40d2833a1d5afc9751 │ 2022-04-16 │ 2022-04-17 │ ATL             │ BOS                │ LA0NX0MC      │ PT2H34M        │           0 │ false          │ false        │ true      │   217.67 │     248.6 │              9 │                 947 │ 1650203940                        │ 2022-04-17T09:59:00.000-04:00                                │ 1650213180                      │ 2022-04-17T12:33:00.000-04:00                                │ BOS                        │ ATL                          │ Delta                                │ DL                  │ Airbus A321                    │ 9240                      │ 947              │ coach             │\n",
      "│ 79eda9f841e226a1e2121d74211e595c │ 2022-04-16 │ 2022-04-17 │ ATL             │ BOS                │ VH0AUEL1      │ PT2H38M        │           0 │ false          │ false        │ true      │   217.67 │     248.6 │              7 │                 947 │ 1650206700                        │ 2022-04-17T10:45:00.000-04:00                                │ 1650216180                      │ 2022-04-17T13:23:00.000-04:00                                │ BOS                        │ ATL                          │ JetBlue Airways                      │ B6                  │ NULL                           │ 9480                      │ 947              │ coach             │\n",
      "│ 9335fae376c38bb61263281779f469ec │ 2022-04-16 │ 2022-04-17 │ ATL             │ BOS                │ V0AJZNN1      │ PT4H12M        │           0 │ false          │ false        │ false     │   213.02 │     251.1 │              3 │                 956 │ 1650198000||1650205620            │ 2022-04-17T08:20:00.000-04:00||2022-04-17T10:27:00.000-04:00 │ 1650203400||1650213120          │ 2022-04-17T09:50:00.000-04:00||2022-04-17T12:32:00.000-04:00 │ CLT||BOS                   │ ATL||CLT                     │ American Airlines||American Airlines │ AA||AA              │ Airbus A320||Airbus A320       │ 5400||7500                │ 228||728         │ coach||coach      │\n",
      "│ 3904bf87f2d1daf334f1ae7e3b876028 │ 2022-04-16 │ 2022-04-17 │ ATL             │ BOS                │ V0AJZNN1      │ PT5H18M        │           0 │ false          │ false        │ false     │   213.02 │     251.1 │              3 │                 956 │ 1650198000||1650208800            │ 2022-04-17T08:20:00.000-04:00||2022-04-17T11:20:00.000-04:00 │ 1650203400||1650217080          │ 2022-04-17T09:50:00.000-04:00||2022-04-17T13:38:00.000-04:00 │ CLT||BOS                   │ ATL||CLT                     │ American Airlines||American Airlines │ AA||AA              │ Airbus A320||Boeing 737-800    │ 5400||8280                │ 228||728         │ coach||coach      │\n",
      "│ d93988734c44a3c075d9efe373352507 │ 2022-04-16 │ 2022-04-17 │ ATL             │ BOS                │ V0AJZNN1      │ PT5H32M        │           0 │ false          │ false        │ false     │   213.02 │     251.1 │              7 │                 956 │ 1650193200||1650205620            │ 2022-04-17T07:00:00.000-04:00||2022-04-17T10:27:00.000-04:00 │ 1650198060||1650213120          │ 2022-04-17T08:21:00.000-04:00||2022-04-17T12:32:00.000-04:00 │ CLT||BOS                   │ ATL||CLT                     │ American Airlines||American Airlines │ AA||AA              │ Airbus A319||Airbus A320       │ 4860||7500                │ 228||728         │ coach||coach      │\n",
      "│ 562e7d5dd6ecbf1509c0c19711dbdca9 │ 2022-04-16 │ 2022-04-17 │ ATL             │ BOS                │ V0AJZNN1      │ PT6H38M        │           0 │ false          │ false        │ false     │   213.02 │     251.1 │              7 │                 956 │ 1650193200||1650208800            │ 2022-04-17T07:00:00.000-04:00||2022-04-17T11:20:00.000-04:00 │ 1650198060||1650217080          │ 2022-04-17T08:21:00.000-04:00||2022-04-17T13:38:00.000-04:00 │ CLT||BOS                   │ ATL||CLT                     │ American Airlines||American Airlines │ AA||AA              │ Airbus A319||Boeing 737-800    │ 4860||8280                │ 228||728         │ coach||coach      │\n",
      "│                ·                 │     ·      │     ·      │  ·              │  ·                 │    ·          │    ·           │           · │   ·            │   ·          │   ·       │      ·   │       ·   │              · │                  ·  │           ·                       │                              ·                               │           ·                     │                              ·                               │    ·                       │    ·                         │                  ·                   │   ·                 │            ·                   │     ·                     │    ·             │      ·            │\n",
      "│                ·                 │     ·      │     ·      │  ·              │  ·                 │    ·          │    ·           │           · │   ·            │   ·          │   ·       │      ·   │       ·   │              · │                  ·  │           ·                       │                              ·                               │           ·                     │                              ·                               │    ·                       │    ·                         │                  ·                   │   ·                 │            ·                   │     ·                     │    ·             │      ·            │\n",
      "│                ·                 │     ·      │     ·      │  ·              │  ·                 │    ·          │    ·           │           · │   ·            │   ·          │   ·       │      ·   │       ·   │              · │                  ·  │           ·                       │                              ·                               │           ·                     │                              ·                               │    ·                       │    ·                         │                  ·                   │   ·                 │            ·                   │     ·                     │    ·             │      ·            │\n",
      "│ c401d28c21595f1ed9788c9098fd34e2 │ 2022-04-16 │ 2022-04-18 │ DEN             │ BOS                │ L0AHZNN1      │ PT7H14M        │           0 │ false          │ false        │ false     │   278.14 │     322.6 │              2 │                2206 │ 1650283200||1650295860            │ 2022-04-18T06:00:00.000-06:00||2022-04-18T10:31:00.000-05:00 │ 1650290520||1650309240          │ 2022-04-18T09:02:00.000-05:00||2022-04-18T15:14:00.000-04:00 │ DFW||BOS                   │ DEN||DFW                     │ American Airlines||American Airlines │ AA||AA              │ Airbus A321||Airbus A321       │ 7320||13380               │ 650||1556        │ coach||coach      │\n",
      "│ 094f1fabbe0259df61054b921955e4e0 │ 2022-04-16 │ 2022-04-18 │ DEN             │ BOS                │ KA0NA0MC      │ PT7H14M        │           0 │ false          │ false        │ false     │   278.14 │     322.6 │              9 │                2154 │ 1650286800||1650303600            │ 2022-04-18T07:00:00.000-06:00||2022-04-18T13:40:00.000-04:00 │ 1650296820||1650312840          │ 2022-04-18T11:47:00.000-04:00||2022-04-18T16:14:00.000-04:00 │ ATL||BOS                   │ DEN||ATL                     │ Delta||Delta                         │ DL||DL              │ Airbus A321||Airbus A321       │ 10020||9240               │ 1207||947        │ coach||coach      │\n",
      "│ bb4b7683523912d2e84fb5842e3bf4c9 │ 2022-04-16 │ 2022-04-18 │ DEN             │ BOS                │ L0AHZNN1      │ PT7H14M        │           0 │ false          │ false        │ false     │   278.14 │     322.6 │              7 │                1765 │ 1650301800||1650319500            │ 2022-04-18T11:10:00.000-06:00||2022-04-18T17:05:00.000-05:00 │ 1650310200||1650327840          │ 2022-04-18T14:30:00.000-05:00||2022-04-18T20:24:00.000-04:00 │ ORD||BOS                   │ DEN||ORD                     │ American Airlines||American Airlines │ AA||AA              │ Boeing 737-800||Boeing 737-800 │ 8400||8340                │ 903||862         │ coach||coach      │\n",
      "│ 09b77a2d45568792f1c5f7ed56f17e55 │ 2022-04-16 │ 2022-04-18 │ DEN             │ BOS                │ KA0NA0MC      │ PT7H19M        │           1 │ false          │ false        │ false     │   278.14 │     322.6 │              9 │                2480 │ 1650315600||1650325560            │ 2022-04-18T15:00:00.000-06:00||2022-04-18T17:46:00.000-06:00 │ 1650320940||1650341940          │ 2022-04-18T16:29:00.000-06:00||2022-04-19T00:19:00.000-04:00 │ SLC||BOS                   │ DEN||SLC                     │ Delta||Delta                         │ DL||DL              │ Airbus A321||Boeing 737-900    │ 5340||16380               │ 380||2100        │ coach||coach      │\n",
      "│ c5d6643c12dccdd9d3deb2eb1004d808 │ 2022-04-16 │ 2022-04-18 │ DEN             │ BOS                │ VAA0PHEN      │ PT7H22M        │           0 │ false          │ false        │ false     │   278.14 │     322.6 │              4 │                1806 │ 1650297720||1650319140            │ 2022-04-18T10:02:00.000-06:00||2022-04-18T17:59:00.000-04:00 │ 1650311100||1650324240          │ 2022-04-18T15:45:00.000-04:00||2022-04-18T19:24:00.000-04:00 │ EWR||BOS                   │ DEN||EWR                     │ United||United                       │ UA||UA              │ Boeing 737-900||Boeing 737-900 │ 13380||5100               │ 1621||185        │ coach||coach      │\n",
      "│ 4a3eefb4e0fc5ae3ebe67b60c658e7c2 │ 2022-04-16 │ 2022-04-18 │ DEN             │ BOS                │ VAA0PHEN      │ PT7H33M        │           0 │ false          │ false        │ false     │   278.14 │     322.6 │              4 │                1806 │ 1650287460||1650310200            │ 2022-04-18T07:11:00.000-06:00||2022-04-18T15:30:00.000-04:00 │ 1650300600||1650314640          │ 2022-04-18T12:50:00.000-04:00||2022-04-18T16:44:00.000-04:00 │ EWR||BOS                   │ DEN||EWR                     │ United||United                       │ UA||UA              │ Boeing 737-900||Airbus A319    │ 13140||4440               │ 1621||185        │ coach||coach      │\n",
      "│ 5ffee9f5095d952ddc84243c9851d702 │ 2022-04-16 │ 2022-04-18 │ DEN             │ BOS                │ KA0NA0MC      │ PT7H36M        │           0 │ false          │ false        │ false     │   278.14 │     322.6 │              9 │                1764 │ 1650285300||1650305700            │ 2022-04-18T06:35:00.000-06:00||2022-04-18T14:15:00.000-04:00 │ 1650295140||1650312660          │ 2022-04-18T11:19:00.000-04:00||2022-04-18T16:11:00.000-04:00 │ DTW||BOS                   │ DEN||DTW                     │ Delta||Delta                         │ DL||DL              │ Airbus A321||Airbus A321       │ 9840||6960                │ 1142||622        │ coach||coach      │\n",
      "│ f85e3490e7e0293e2886f62bc78b365f │ 2022-04-16 │ 2022-04-18 │ DEN             │ BOS                │ KA0NA0MC      │ PT7H39M        │           0 │ false          │ false        │ false     │   278.14 │     322.6 │              4 │                1815 │ 1650312300||1650329880            │ 2022-04-18T14:05:00.000-06:00||2022-04-18T19:58:00.000-05:00 │ 1650318960||1650339840          │ 2022-04-18T16:56:00.000-05:00||2022-04-18T23:44:00.000-04:00 │ MSP||BOS                   │ DEN||MSP                     │ Delta||Delta                         │ DL||DL              │ Airbus A321||Boeing 737-900    │ 6660||9960                │ 693||1122        │ coach||coach      │\n",
      "│ 5cfdca4b711239a64fe84ed5fa03a30e │ 2022-04-16 │ 2022-04-18 │ DEN             │ BOS                │ KA0NA0MC      │ PT7H41M        │           0 │ false          │ false        │ false     │   278.14 │     322.6 │              9 │                1806 │ 1650296700||1650319200            │ 2022-04-18T09:45:00.000-06:00||2022-04-18T18:00:00.000-04:00 │ 1650310500||1650324360          │ 2022-04-18T15:35:00.000-04:00||2022-04-18T19:26:00.000-04:00 │ LGA||BOS                   │ DEN||LGA                     │ Delta||Delta                         │ DL||DL              │ Boeing 737-800||Embraer 175    │ 13800||5160               │ 1621||185        │ coach||coach      │\n",
      "│ 135033e95cc0110cf58e0d65b2de7692 │ 2022-04-16 │ 2022-04-18 │ DEN             │ BOS                │ KA0NA0MC      │ PT7H47M        │           0 │ false          │ false        │ false     │   278.14 │     322.6 │              8 │                2154 │ 1650312600||1650331500            │ 2022-04-18T14:10:00.000-06:00||2022-04-18T21:25:00.000-04:00 │ 1650322620||1650340620          │ 2022-04-18T18:57:00.000-04:00||2022-04-18T23:57:00.000-04:00 │ ATL||BOS                   │ DEN||ATL                     │ Delta||Delta                         │ DL||DL              │ Boeing 767||Boeing 757         │ 10020||9120               │ 1207||947        │ coach||coach      │\n",
      "├──────────────────────────────────┴────────────┴────────────┴─────────────────┴────────────────────┴───────────────┴────────────────┴─────────────┴────────────────┴──────────────┴───────────┴──────────┴───────────┴────────────────┴─────────────────────┴───────────────────────────────────┴──────────────────────────────────────────────────────────────┴─────────────────────────────────┴──────────────────────────────────────────────────────────────┴────────────────────────────┴──────────────────────────────┴──────────────────────────────────────┴─────────────────────┴────────────────────────────────┴───────────────────────────┴──────────────────┴───────────────────┤\n",
      "│ ? rows (>9999 rows, 20 shown)                                                                                                                                                                                                                                                                                                                                                                                                                                                                                                                                                                                                                                                    27 columns │\n",
      "└─────────────────────────────────────────────────────────────────────────────────────────────────────────────────────────────────────────────────────────────────────────────────────────────────────────────────────────────────────────────────────────────────────────────────────────────────────────────────────────────────────────────────────────────────────────────────────────────────────────────────────────────────────────────────────────────────────────────────────────────────────────────────────────────────────────────────────────────────────────────────────────────────────────────────────────────────────────────────────────────────────────────────────────────┘\n",
      "\n"
     ]
    }
   ],
   "source": [
    "#orginal file \n",
    "duckdb.read_csv('itineraries.csv').show()"
   ]
  },
  {
   "cell_type": "code",
   "execution_count": 4,
   "metadata": {},
   "outputs": [
    {
     "data": {
      "application/vnd.jupyter.widget-view+json": {
       "model_id": "26db2b37e77e46f7a7e647900d3292c6",
       "version_major": 2,
       "version_minor": 0
      },
      "text/plain": [
       "FloatProgress(value=0.0, layout=Layout(width='auto'), style=ProgressStyle(bar_color='black'))"
      ]
     },
     "metadata": {},
     "output_type": "display_data"
    }
   ],
   "source": [
    "flights = duckdb.query(\"\"\"\n",
    "    SELECT * FROM 'itineraries.csv' \n",
    "    WHERE startingAirport = 'LAX' OR destinationAirport = 'LAX' \n",
    "    \"\"\").df()"
   ]
  },
  {
   "cell_type": "code",
   "execution_count": 5,
   "metadata": {},
   "outputs": [
    {
     "name": "stdout",
     "output_type": "stream",
     "text": [
      "                              legId searchDate flightDate startingAirport  \\\n",
      "0  320d01bfb606ec62f4cbb3a01f4e206e 2022-04-16 2022-04-17             ATL   \n",
      "1  117af28f9e41f27e538004b929157e23 2022-04-16 2022-04-17             ATL   \n",
      "2  184852ad5f76a2f83f10848eced24103 2022-04-16 2022-04-17             ATL   \n",
      "3  28aa3e9cc7e99ac751b90224b153646f 2022-04-16 2022-04-17             ATL   \n",
      "4  a84ec15addae2a4f4d13c9d38df50b96 2022-04-16 2022-04-17             ATL   \n",
      "\n",
      "  destinationAirport fareBasisCode travelDuration  elapsedDays  \\\n",
      "0                LAX       D01PXP5       PT12H30M            1   \n",
      "1                LAX       D01PXP5       PT13H12M            1   \n",
      "2                LAX           KNR        PT4H54M            0   \n",
      "3                LAX           KNR        PT4H55M            0   \n",
      "4                LAX      VAA0AFEN        PT6H31M            0   \n",
      "\n",
      "   isBasicEconomy  isRefundable  ...     segmentsArrivalTimeEpochSeconds  \\\n",
      "0           False         False  ...              1650262320||1650290460   \n",
      "1           False         False  ...  1650263220||1650290400||1650298260   \n",
      "2           False         False  ...                          1650262800   \n",
      "3           False         False  ...                          1650209400   \n",
      "4           False         False  ...              1650212460||1650223860   \n",
      "\n",
      "                              segmentsArrivalTimeRaw  \\\n",
      "0  2022-04-17T23:12:00.000-07:00||2022-04-18T07:0...   \n",
      "1  2022-04-18T00:27:00.000-06:00||2022-04-18T07:0...   \n",
      "2                      2022-04-17T23:20:00.000-07:00   \n",
      "3                      2022-04-17T08:30:00.000-07:00   \n",
      "4  2022-04-17T10:21:00.000-06:00||2022-04-17T12:3...   \n",
      "\n",
      "   segmentsArrivalAirportCode  segmentsDepartureAirportCode  \\\n",
      "0                    LAS||ONT                      ATL||LAS   \n",
      "1               DEN||PHX||ONT                 ATL||DEN||PHX   \n",
      "2                         LAX                           ATL   \n",
      "3                         LAX                           ATL   \n",
      "4                    DEN||ONT                      ATL||DEN   \n",
      "\n",
      "                                 segmentsAirlineName segmentsAirlineCode  \\\n",
      "0               Frontier Airlines||Frontier Airlines              F9||F9   \n",
      "1  Frontier Airlines||Frontier Airlines||Frontier...          F9||F9||F9   \n",
      "2                                    Spirit Airlines                  NK   \n",
      "3                                    Spirit Airlines                  NK   \n",
      "4                                     United||United              UA||UA   \n",
      "\n",
      "      segmentsEquipmentDescription segmentsDurationInSeconds segmentsDistance  \\\n",
      "0                               ||               16860||3660        1735||220   \n",
      "1                             ||||         12480||7200||4440   1207||590||347   \n",
      "2  AIRBUS INDUSTRIE A320 SHARKLETS                     17640             None   \n",
      "3  AIRBUS INDUSTRIE A320 SHARKLETS                     17700             None   \n",
      "4      Airbus A319||Boeing 737-800               12060||7980        1207||827   \n",
      "\n",
      "     segmentsCabinCode  \n",
      "0         coach||coach  \n",
      "1  coach||coach||coach  \n",
      "2                coach  \n",
      "3                coach  \n",
      "4         coach||coach  \n",
      "\n",
      "[5 rows x 27 columns]\n"
     ]
    }
   ],
   "source": [
    "print(flights.head())  # View first 5 rows"
   ]
  },
  {
   "cell_type": "code",
   "execution_count": 6,
   "metadata": {},
   "outputs": [
    {
     "data": {
      "application/vnd.jupyter.widget-view+json": {
       "model_id": "9b3b16a0640d407bb1faf73dc205c1d2",
       "version_major": 2,
       "version_minor": 0
      },
      "text/plain": [
       "FloatProgress(value=0.0, layout=Layout(width='auto'), style=ProgressStyle(bar_color='black'))"
      ]
     },
     "metadata": {},
     "output_type": "display_data"
    }
   ],
   "source": [
    "duckdb.query(\"\"\"\n",
    "    COPY (\n",
    "        SELECT * FROM 'itineraries.csv'\n",
    "        WHERE startingAirport = 'LAX' OR destinationAirport = 'LAX'\n",
    "        ORDER BY RANDOM()\n",
    "        LIMIT 100000\n",
    "    ) TO 'filtered_flights.csv' (HEADER, DELIMITER ',');\n",
    "\"\"\")"
   ]
  }
 ],
 "metadata": {
  "kernelspec": {
   "display_name": "base",
   "language": "python",
   "name": "python3"
  },
  "language_info": {
   "codemirror_mode": {
    "name": "ipython",
    "version": 3
   },
   "file_extension": ".py",
   "mimetype": "text/x-python",
   "name": "python",
   "nbconvert_exporter": "python",
   "pygments_lexer": "ipython3",
   "version": "3.11.7"
  }
 },
 "nbformat": 4,
 "nbformat_minor": 2
}
