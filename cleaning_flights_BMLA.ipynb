{
 "cells": [
  {
   "cell_type": "code",
   "execution_count": 1,
   "metadata": {},
   "outputs": [
    {
     "name": "stdout",
     "output_type": "stream",
     "text": [
      "Requirement already satisfied: duckdb in c:\\users\\zsmit\\anaconda3\\lib\\site-packages (1.2.0)\n",
      "Note: you may need to restart the kernel to use updated packages.\n"
     ]
    }
   ],
   "source": [
    "pip install duckdb"
   ]
  },
  {
   "cell_type": "code",
   "execution_count": 2,
   "metadata": {},
   "outputs": [],
   "source": [
    "import duckdb"
   ]
  },
  {
   "cell_type": "code",
   "execution_count": null,
   "metadata": {},
   "outputs": [
    {
     "ename": "IOException",
     "evalue": "IO Error: No files found that match the pattern \"itineraries.csv\"",
     "output_type": "error",
     "traceback": [
      "\u001b[1;31m---------------------------------------------------------------------------\u001b[0m",
      "\u001b[1;31mIOException\u001b[0m                               Traceback (most recent call last)",
      "Cell \u001b[1;32mIn[3], line 1\u001b[0m\n\u001b[1;32m----> 1\u001b[0m duckdb\u001b[38;5;241m.\u001b[39mread_csv(\u001b[38;5;124m'\u001b[39m\u001b[38;5;124mitineraries.csv\u001b[39m\u001b[38;5;124m'\u001b[39m)\u001b[38;5;241m.\u001b[39mshow()\n",
      "\u001b[1;31mIOException\u001b[0m: IO Error: No files found that match the pattern \"itineraries.csv\""
     ]
    }
   ],
   "source": [
    "#orginal file \n",
    "duckdb.read_csv('itineraries.csv').show()"
   ]
  },
  {
   "cell_type": "code",
   "execution_count": null,
   "metadata": {},
   "outputs": [
    {
     "data": {
      "application/vnd.jupyter.widget-view+json": {
       "model_id": "3bb69dba76664f6d9e6fe7436f694fab",
       "version_major": 2,
       "version_minor": 0
      },
      "text/plain": [
       "FloatProgress(value=0.0, layout=Layout(width='auto'), style=ProgressStyle(bar_color='black'))"
      ]
     },
     "metadata": {},
     "output_type": "display_data"
    }
   ],
   "source": [
    "flights = duckdb.query(\"\"\"\n",
    "    SELECT * FROM 'itineraries.csv' \n",
    "    WHERE startingAirport = 'LAX' OR destinationAirport = 'LAX' \n",
    "    \"\"\").df()"
   ]
  },
  {
   "cell_type": "code",
   "execution_count": null,
   "metadata": {},
   "outputs": [
    {
     "name": "stdout",
     "output_type": "stream",
     "text": [
      "                              legId searchDate flightDate startingAirport  \\\n",
      "0  320d01bfb606ec62f4cbb3a01f4e206e 2022-04-16 2022-04-17             ATL   \n",
      "1  117af28f9e41f27e538004b929157e23 2022-04-16 2022-04-17             ATL   \n",
      "2  184852ad5f76a2f83f10848eced24103 2022-04-16 2022-04-17             ATL   \n",
      "3  28aa3e9cc7e99ac751b90224b153646f 2022-04-16 2022-04-17             ATL   \n",
      "4  a84ec15addae2a4f4d13c9d38df50b96 2022-04-16 2022-04-17             ATL   \n",
      "\n",
      "  destinationAirport fareBasisCode travelDuration  elapsedDays  \\\n",
      "0                LAX       D01PXP5       PT12H30M            1   \n",
      "1                LAX       D01PXP5       PT13H12M            1   \n",
      "2                LAX           KNR        PT4H54M            0   \n",
      "3                LAX           KNR        PT4H55M            0   \n",
      "4                LAX      VAA0AFEN        PT6H31M            0   \n",
      "\n",
      "   isBasicEconomy  isRefundable  ...     segmentsArrivalTimeEpochSeconds  \\\n",
      "0           False         False  ...              1650262320||1650290460   \n",
      "1           False         False  ...  1650263220||1650290400||1650298260   \n",
      "2           False         False  ...                          1650262800   \n",
      "3           False         False  ...                          1650209400   \n",
      "4           False         False  ...              1650212460||1650223860   \n",
      "\n",
      "                              segmentsArrivalTimeRaw  \\\n",
      "0  2022-04-17T23:12:00.000-07:00||2022-04-18T07:0...   \n",
      "1  2022-04-18T00:27:00.000-06:00||2022-04-18T07:0...   \n",
      "2                      2022-04-17T23:20:00.000-07:00   \n",
      "3                      2022-04-17T08:30:00.000-07:00   \n",
      "4  2022-04-17T10:21:00.000-06:00||2022-04-17T12:3...   \n",
      "\n",
      "   segmentsArrivalAirportCode  segmentsDepartureAirportCode  \\\n",
      "0                    LAS||ONT                      ATL||LAS   \n",
      "1               DEN||PHX||ONT                 ATL||DEN||PHX   \n",
      "2                         LAX                           ATL   \n",
      "3                         LAX                           ATL   \n",
      "4                    DEN||ONT                      ATL||DEN   \n",
      "\n",
      "                                 segmentsAirlineName segmentsAirlineCode  \\\n",
      "0               Frontier Airlines||Frontier Airlines              F9||F9   \n",
      "1  Frontier Airlines||Frontier Airlines||Frontier...          F9||F9||F9   \n",
      "2                                    Spirit Airlines                  NK   \n",
      "3                                    Spirit Airlines                  NK   \n",
      "4                                     United||United              UA||UA   \n",
      "\n",
      "      segmentsEquipmentDescription segmentsDurationInSeconds segmentsDistance  \\\n",
      "0                               ||               16860||3660        1735||220   \n",
      "1                             ||||         12480||7200||4440   1207||590||347   \n",
      "2  AIRBUS INDUSTRIE A320 SHARKLETS                     17640             None   \n",
      "3  AIRBUS INDUSTRIE A320 SHARKLETS                     17700             None   \n",
      "4      Airbus A319||Boeing 737-800               12060||7980        1207||827   \n",
      "\n",
      "     segmentsCabinCode  \n",
      "0         coach||coach  \n",
      "1  coach||coach||coach  \n",
      "2                coach  \n",
      "3                coach  \n",
      "4         coach||coach  \n",
      "\n",
      "[5 rows x 27 columns]\n"
     ]
    }
   ],
   "source": [
    "print(flights.head())  # View first 5 rows"
   ]
  },
  {
   "cell_type": "code",
   "execution_count": null,
   "metadata": {},
   "outputs": [
    {
     "data": {
      "application/vnd.jupyter.widget-view+json": {
       "model_id": "cb9220f6a8754ba8ace2e14881f1a481",
       "version_major": 2,
       "version_minor": 0
      },
      "text/plain": [
       "FloatProgress(value=0.0, layout=Layout(width='auto'), style=ProgressStyle(bar_color='black'))"
      ]
     },
     "metadata": {},
     "output_type": "display_data"
    }
   ],
   "source": [
    "duckdb.query(\"\"\"\n",
    "    COPY (\n",
    "        SELECT * FROM 'itineraries.csv'\n",
    "        WHERE startingAirport = 'LAX' OR destinationAirport = 'LAX'\n",
    "        LIMIT 50000\n",
    "    ) TO 'filtered_flights.csv' (HEADER, DELIMITER ',');\n",
    "\"\"\")"
   ]
  },
  {
   "cell_type": "code",
   "execution_count": null,
   "metadata": {},
   "outputs": [],
   "source": []
  }
 ],
 "metadata": {
  "kernelspec": {
   "display_name": "base",
   "language": "python",
   "name": "python3"
  },
  "language_info": {
   "codemirror_mode": {
    "name": "ipython",
    "version": 3
   },
   "file_extension": ".py",
   "mimetype": "text/x-python",
   "name": "python",
   "nbconvert_exporter": "python",
   "pygments_lexer": "ipython3",
   "version": "3.11.7"
  }
 },
 "nbformat": 4,
 "nbformat_minor": 2
}
